{
 "cells": [
  {
   "cell_type": "code",
   "execution_count": 1,
   "metadata": {},
   "outputs": [
    {
     "name": "stdout",
     "output_type": "stream",
     "text": [
      "Note: you may need to restart the kernel to use updated packages.\n"
     ]
    }
   ],
   "source": [
    "#you can use %\n",
    "%pip install -q llama-index-core llama-index-readers-file llama-index-llms-nvidia llama-index-utils-workflow"
   ]
  },
  {
   "cell_type": "code",
   "execution_count": 5,
   "metadata": {},
   "outputs": [
    {
     "name": "stdout",
     "output_type": "stream",
     "text": [
      "Collecting python-dotenv\n",
      "  Using cached python_dotenv-1.0.1-py3-none-any.whl.metadata (23 kB)\n",
      "Using cached python_dotenv-1.0.1-py3-none-any.whl (19 kB)\n",
      "Installing collected packages: python-dotenv\n",
      "Successfully installed python-dotenv-1.0.1\n",
      "Note: you may need to restart the kernel to use updated packages.\n"
     ]
    }
   ],
   "source": [
    "%pip install python-dotenv\n",
    "from dotenv import load_dotenv\n",
    "load_dotenv()"
   ]
  },
  {
   "cell_type": "code",
   "execution_count": 8,
   "metadata": {},
   "outputs": [],
   "source": [
    "from llama_index.core.workflow import Workflow, step, Event, Context\n",
    "\n",
    "from llama_index.core.workflow.events import (\n",
    "    StartEvent,\n",
    "    StopEvent,\n",
    "    InputRequiredEvent,\n",
    "    HumanResponseEvent\n",
    ")\n",
    "\n",
    "# some event types to define the workflow:\n",
    "\n",
    "# if the user says the research is not good enough, we retry the workflow\n",
    "class RetryEvent(Event):\n",
    "    text: str\n",
    "    feedback: str\n",
    "\n",
    "class DownloadEvent(Event):\n",
    "    audio_file:str\n",
    "\n",
    "class DownloadEvent(Event):\n",
    "    audio_file:str\n",
    "\n",
    "# if the user says the research is good enough, we generate a report\n",
    "class OptimizeEvent(Event):\n",
    "     text: str\n",
    "\n",
    "# we emit progress events to the frontend so the user knows what's happening\n",
    "class ValidateEvent(Event):\n",
    "    valid: bool"
   ]
  },
  {
   "cell_type": "code",
   "execution_count": 7,
   "metadata": {},
   "outputs": [
    {
     "name": "stderr",
     "output_type": "stream",
     "text": [
      "/Users/iolanigan/github/ar-transliterate/.venv/lib/python3.11/site-packages/tqdm/auto.py:21: TqdmWarning: IProgress not found. Please update jupyter and ipywidgets. See https://ipywidgets.readthedocs.io/en/stable/user_install.html\n",
      "  from .autonotebook import tqdm as notebook_tqdm\n",
      "None of PyTorch, TensorFlow >= 2.0, or Flax have been found. Models won't be available and only tokenizers, configuration and file/data utilities can be used.\n"
     ]
    }
   ],
   "source": [
    "from llama_index.llms.nvidia import NVIDIA\n",
    "import os\n",
    "from transcribe import download_audio, transcribe\n",
    "\n",
    "\n",
    "if os.getenv('NVIDIA_API_KEY') is None:\n",
    "    raise ValueError(\"NVIDIA_API_KEY environment variable is not set\")\n",
    "\n",
    "class OptimizeWorflow(Workflow):\n",
    "    llm = NVIDIA(model=\"meta/llama3-70b-instruct\")\n",
    "    \n",
    "    @step\n",
    "    async def download(self, ctx: Context, ev: StartEvent) -> DownloadEvent:\n",
    "        # ctx.write_event_to_stream(ProgressEvent(msg=f\"I am doing some research on the subject of '{ev.query}'\"))\n",
    "        # await ctx.set(\"original_query\", ev.query)\n",
    "\n",
    "        if ev.query is None:\n",
    "            url = \"https://www.youtube.com/watch?v=dyBLJqwO1Dc\"\n",
    "        else:\n",
    "            url = ev.query\n",
    "\n",
    "        audio_file = download_audio(url)\n",
    "\n",
    "        # once we've done the research, we send what we've found back to the human for review\n",
    "        # this gets handled by the frontend, and we expect a HumanResponseEvent to be sent back\n",
    "        return DownloadEvent(prefix=\"\", audio_file=audio_file)\n",
    "    \n",
    "\n",
    "    @step\n",
    "    async def transcribe(self, ctx: Context, ev: DownloadEvent) -> OptimizeEvent:\n",
    "        # ctx.write_event_to_stream(ProgressEvent(msg=f\"I am doing some research on the subject of '{ev.query}'\"))\n",
    "        # await ctx.set(\"original_query\", ev.query)\n",
    "\n",
    "        # once we've done the research, we send what we've found back to the human for review\n",
    "        # this gets handled by the frontend, and we expect a HumanResponseEvent to be sent back\n",
    "        return OptimizeEvent(prefix=\"\", query=ev.query,payload=f\"Lorem ipsum dolor sit amet, consectetur adipiscing elit. Sed ut purus eget sapien. Nulla facilisi. Sed do eiusmod tempor incididunt ut labore et dolore magna aliqua.\")\n",
    "    "
   ]
  }
 ],
 "metadata": {
  "kernelspec": {
   "display_name": ".venv",
   "language": "python",
   "name": "python3"
  },
  "language_info": {
   "codemirror_mode": {
    "name": "ipython",
    "version": 3
   },
   "file_extension": ".py",
   "mimetype": "text/x-python",
   "name": "python",
   "nbconvert_exporter": "python",
   "pygments_lexer": "ipython3",
   "version": "3.11.7"
  }
 },
 "nbformat": 4,
 "nbformat_minor": 2
}
